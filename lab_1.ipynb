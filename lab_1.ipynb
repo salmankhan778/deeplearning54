{
  "nbformat": 4,
  "nbformat_minor": 0,
  "metadata": {
    "colab": {
      "provenance": []
    },
    "kernelspec": {
      "name": "python3",
      "display_name": "Python 3"
    },
    "language_info": {
      "name": "python"
    }
  },
  "cells": [
    {
      "cell_type": "code",
      "execution_count": 2,
      "metadata": {
        "id": "e5hJxvvonyUY",
        "colab": {
          "base_uri": "https://localhost:8080/"
        },
        "outputId": "5f9e561e-33d0-41c8-e19c-9cfd00dc4352"
      },
      "outputs": [
        {
          "output_type": "stream",
          "name": "stdout",
          "text": [
            "Requirement already satisfied: h5py in /usr/local/lib/python3.10/dist-packages (3.11.0)\n",
            "Requirement already satisfied: numpy>=1.17.3 in /usr/local/lib/python3.10/dist-packages (from h5py) (1.26.4)\n"
          ]
        }
      ],
      "source": [
        "!pip install h5py\n"
      ]
    },
    {
      "cell_type": "code",
      "source": [
        "import h5py\n"
      ],
      "metadata": {
        "id": "UJe3roU0rwuA"
      },
      "execution_count": 3,
      "outputs": []
    },
    {
      "cell_type": "code",
      "source": [
        "import numpy as np\n"
      ],
      "metadata": {
        "id": "GYH23kW4sE_M"
      },
      "execution_count": 5,
      "outputs": []
    },
    {
      "cell_type": "code",
      "source": [
        "import h5py\n",
        "from google.colab import drive\n",
        "drive.mount('/content/drive')\n",
        "\n",
        "# Load the file and print the available keys\n",
        "with h5py.File('/content/drive/MyDrive/Train.h5', 'r') as train_dataset:\n",
        "    print(\"Keys in Train.h5:\", list(train_dataset.keys()))\n",
        "\n",
        "with h5py.File('/content/drive/MyDrive/Test.h5', 'r') as test_dataset:\n",
        "    print(\"Keys in Test.h5:\", list(test_dataset.keys()))\n"
      ],
      "metadata": {
        "colab": {
          "base_uri": "https://localhost:8080/"
        },
        "id": "ThakQUSnsVtq",
        "outputId": "ffe66db2-9b6d-4c89-ad01-bce976322d0a"
      },
      "execution_count": 7,
      "outputs": [
        {
          "output_type": "stream",
          "name": "stdout",
          "text": [
            "Drive already mounted at /content/drive; to attempt to forcibly remount, call drive.mount(\"/content/drive\", force_remount=True).\n",
            "Keys in Train.h5: ['images', 'labels']\n",
            "Keys in Test.h5: ['images', 'labels']\n"
          ]
        }
      ]
    },
    {
      "cell_type": "code",
      "source": [
        "import h5py\n",
        "import numpy as np\n",
        "from google.colab import drive\n",
        "\n",
        "# Mount Google Drive (if not already mounted)\n",
        "drive.mount('/content/drive', force_remount=True)\n",
        "\n",
        "# Load the training and test data\n",
        "with h5py.File('/content/drive/MyDrive/Train.h5', 'r') as train_dataset:\n",
        "    train_images = np.array(train_dataset['images'][:])\n",
        "    train_labels = np.array(train_dataset['labels'][:])\n",
        "\n",
        "with h5py.File('/content/drive/MyDrive/Test.h5', 'r') as test_dataset:\n",
        "    test_images = np.array(test_dataset['images'][:])\n",
        "    test_labels = np.array(test_dataset['labels'][:])\n",
        "\n",
        "print(\"Training and test data loaded successfully.\")\n"
      ],
      "metadata": {
        "colab": {
          "base_uri": "https://localhost:8080/"
        },
        "id": "rdrOxArvsibp",
        "outputId": "d88377f1-ed2e-496e-fe02-2d753cb8f041"
      },
      "execution_count": 8,
      "outputs": [
        {
          "output_type": "stream",
          "name": "stdout",
          "text": [
            "Mounted at /content/drive\n",
            "Training and test data loaded successfully.\n"
          ]
        }
      ]
    },
    {
      "cell_type": "code",
      "source": [
        "# Flatten and normalize the images\n",
        "train_images = train_images.reshape(train_images.shape[0], -1) / 255.0\n",
        "test_images = test_images.reshape(test_images.shape[0], -1) / 255.0\n",
        "\n",
        "# Convert labels to one-hot encoding\n",
        "num_classes = len(np.unique(train_labels))\n",
        "train_labels_one_hot = np.eye(num_classes)[train_labels]\n",
        "test_labels_one_hot = np.eye(num_classes)[test_labels]\n",
        "\n",
        "print(\"Data preprocessing completed.\")\n"
      ],
      "metadata": {
        "colab": {
          "base_uri": "https://localhost:8080/"
        },
        "id": "k_s91Et4s0Cw",
        "outputId": "5ea3d38c-69b3-4aeb-eb7d-eb5573259a95"
      },
      "execution_count": 9,
      "outputs": [
        {
          "output_type": "stream",
          "name": "stdout",
          "text": [
            "Data preprocessing completed.\n"
          ]
        }
      ]
    },
    {
      "cell_type": "code",
      "source": [
        "def softmax(z):\n",
        "    exp_z = np.exp(z - np.max(z, axis=1, keepdims=True))  # for numerical stability\n",
        "    return exp_z / np.sum(exp_z, axis=1, keepdims=True)\n"
      ],
      "metadata": {
        "id": "pGIN2T1qs3HI"
      },
      "execution_count": 10,
      "outputs": []
    },
    {
      "cell_type": "code",
      "source": [
        "def compute_cost(y_true, y_pred):\n",
        "    m = y_true.shape[0]\n",
        "    return -np.sum(y_true * np.log(y_pred + 1e-8)) / m  # adding epsilon for numerical stability\n"
      ],
      "metadata": {
        "id": "H8qtKHVFs5LD"
      },
      "execution_count": 11,
      "outputs": []
    },
    {
      "cell_type": "markdown",
      "source": [],
      "metadata": {
        "id": "geG92ruSuTk1"
      }
    },
    {
      "cell_type": "markdown",
      "source": [
        "4. Gradient Descent\n",
        "\n"
      ],
      "metadata": {
        "id": "s_TXbut1uTN-"
      }
    },
    {
      "cell_type": "code",
      "source": [
        "def gradient_descent(X, y, weights, bias, learning_rate):\n",
        "    m = X.shape[0]\n",
        "\n",
        "    # Forward propagation\n",
        "    z = np.dot(X, weights) + bias\n",
        "    y_pred = softmax(z)\n",
        "\n",
        "    # Compute gradients\n",
        "    dz = y_pred - y\n",
        "    dw = np.dot(X.T, dz) / m\n",
        "    db = np.sum(dz) / m\n",
        "\n",
        "    # Update parameters\n",
        "    weights -= learning_rate * dw\n",
        "    bias -= learning_rate * db\n",
        "\n",
        "    return weights, bias\n"
      ],
      "metadata": {
        "id": "zbFRGyq7s8dg"
      },
      "execution_count": 12,
      "outputs": []
    },
    {
      "cell_type": "markdown",
      "source": [
        "## 5. Model **Training**\n",
        "\n",
        "\n",
        "\n"
      ],
      "metadata": {
        "id": "K1yKmpwluGGD"
      }
    },
    {
      "cell_type": "code",
      "source": [
        "# Initialize parameters\n",
        "num_features = train_images.shape[1]\n",
        "weights = np.random.randn(num_features, num_classes) * 0.01\n",
        "bias = np.zeros((1, num_classes))\n",
        "\n",
        "# Training parameters\n",
        "learning_rate = 0.1\n",
        "num_epochs = 1000\n",
        "\n",
        "# Training loop\n",
        "for epoch in range(num_epochs):\n",
        "    # Update weights and bias using gradient descent\n",
        "    weights, bias = gradient_descent(train_images, train_labels_one_hot, weights, bias, learning_rate)\n",
        "\n",
        "    # Calculate cost every 100 epochs\n",
        "    if epoch % 100 == 0:\n",
        "        z = np.dot(train_images, weights) + bias\n",
        "        y_pred = softmax(z)\n",
        "        cost = compute_cost(train_labels_one_hot, y_pred)\n",
        "        print(f\"Epoch {epoch}, Cost: {cost}\")\n"
      ],
      "metadata": {
        "colab": {
          "base_uri": "https://localhost:8080/"
        },
        "id": "bttdR52-s_tV",
        "outputId": "b3db8a68-7e27-4066-f985-6d2d5a13dc57"
      },
      "execution_count": 13,
      "outputs": [
        {
          "output_type": "stream",
          "name": "stdout",
          "text": [
            "Epoch 0, Cost: 14.201252185712509\n",
            "Epoch 100, Cost: 10.354243833310864\n",
            "Epoch 200, Cost: 10.791001213259358\n",
            "Epoch 300, Cost: 11.786996801846858\n",
            "Epoch 400, Cost: 10.659673020736529\n",
            "Epoch 500, Cost: 12.00868028569123\n",
            "Epoch 600, Cost: 8.0302073109131\n",
            "Epoch 700, Cost: 9.270541009571254\n",
            "Epoch 800, Cost: 8.251757450166458\n",
            "Epoch 900, Cost: 9.713520223699147\n"
          ]
        }
      ]
    },
    {
      "cell_type": "code",
      "source": [
        "# Function to make predictions\n",
        "def predict(X, weights, bias):\n",
        "    z = np.dot(X, weights) + bias\n",
        "    y_pred = softmax(z)\n",
        "    return np.argmax(y_pred, axis=1)\n",
        "\n",
        "# Predictions on test set\n",
        "test_predictions = predict(test_images, weights, bias)\n",
        "\n",
        "# Calculate accuracy\n",
        "accuracy = np.mean(test_predictions == test_labels) * 100\n",
        "print(f\"Test Set Accuracy: {accuracy:.2f}%\")\n"
      ],
      "metadata": {
        "colab": {
          "base_uri": "https://localhost:8080/"
        },
        "id": "NbI9NLzbtaJP",
        "outputId": "8e79d4c8-72b6-4f51-c299-6f7918a3a15f"
      },
      "execution_count": 14,
      "outputs": [
        {
          "output_type": "stream",
          "name": "stdout",
          "text": [
            "Test Set Accuracy: 36.67%\n"
          ]
        }
      ]
    }
  ]
}